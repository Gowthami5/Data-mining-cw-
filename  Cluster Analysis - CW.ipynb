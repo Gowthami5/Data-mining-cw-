{
 "cells": [
  {
   "cell_type": "markdown",
   "id": "60f0b5e1",
   "metadata": {},
   "source": [
    "### Part 2: Cluster Analysis"
   ]
  },
  {
   "cell_type": "code",
   "execution_count": 65,
   "id": "ec2b04e7",
   "metadata": {},
   "outputs": [],
   "source": [
    "import sys\n",
    "import csv\n",
    "import math\n",
    "import random\n",
    "import numpy as np\n",
    "import matplotlib.pyplot as plt\n",
    "import pandas as pd\n",
    "\n",
    "import matplotlib.pyplot as plt\n",
    "# from kneed import KneeLocator\n",
    "from sklearn.datasets import make_blobs\n",
    "from sklearn.cluster import KMeans\n",
    "from sklearn.metrics import silhouette_score\n",
    "from sklearn.preprocessing import StandardScaler\n",
    "\n",
    "from sklearn.decomposition import PCA\n",
    "from sklearn.cluster import AgglomerativeClustering\n",
    "from sklearn.preprocessing import StandardScaler, normalize\n",
    "from sklearn.metrics import silhouette_score\n",
    "import scipy.cluster.hierarchy as shc"
   ]
  },
  {
   "cell_type": "code",
   "execution_count": 8,
   "id": "a01e64c6",
   "metadata": {},
   "outputs": [],
   "source": [
    "# Return a pandas dataframe containing the data set that needs to be extracted from the data_file.\n",
    "# data_file will be populated with the string 'wholesale_customers.csv'.\n",
    "def read_csv_2(data_file):\n",
    "      \n",
    "    df = pd.read_csv(data_file,index_col=False, skipinitialspace = True)\n",
    "    df = df.drop(['Channel', 'Region'], axis=1)    \n",
    "    df.replace(to_replace=[r' ?', r'?', r'? ', r' ', r''], value=[np.nan, np.nan, np.nan, np.nan, np.nan], regex=False, inplace=True)\n",
    "    \n",
    "    return df"
   ]
  },
  {
   "cell_type": "code",
   "execution_count": 40,
   "id": "c78915ee",
   "metadata": {},
   "outputs": [],
   "source": [
    "# Return a pandas dataframe with summary statistics of the data.\n",
    "# Namely, 'mean', 'std' (standard deviation), 'min', and 'max' for each attribute.\n",
    "# These strings index the new dataframe columns. \n",
    "# Each row should correspond to an attribute in the original data and be indexed with the attribute name.\n",
    "def summary_statistics(df):\n",
    "    \n",
    "    index_labels=['mean', 'standard deviation', 'minimum', 'maximum']\n",
    "    df_summary = pd.DataFrame([df.mean().astype(int), df.std().astype(int), \n",
    "                               df.min().astype(int), df.max().astype(int) ], \n",
    "                              index=index_labels)\n",
    "    \n",
    "    return df_summary"
   ]
  },
  {
   "cell_type": "code",
   "execution_count": 35,
   "id": "76d9074c",
   "metadata": {},
   "outputs": [],
   "source": [
    "# Given a dataframe df with numeric values, return a dataframe (new copy)\n",
    "# where each attribute value is subtracted by the mean and then divided by the\n",
    "# standard deviation for that attribute.\n",
    "def standardize(df):\n",
    "    \n",
    "    df_summary = summary_statistics(df)\n",
    "    for column in df.columns:\n",
    "        df[column] = (df[column] - df_summary[column]['mean'])/df_summary[column]['standard deviation']\n",
    "    \n",
    "    return df"
   ]
  },
  {
   "cell_type": "code",
   "execution_count": 63,
   "id": "f8e61e3e",
   "metadata": {},
   "outputs": [],
   "source": [
    "# Given a dataframe df and a number of clusters k, return a pandas series y\n",
    "# specifying an assignment of instances to clusters, using kmeans.\n",
    "# y should contain values in the set {0,1,...,k-1}.\n",
    "def kmeans(df, k):\n",
    "    # source: https://realpython.com/k-means-clustering-python/\n",
    "    kmeans = KMeans( init=\"random\", n_clusters=k, n_init=10, max_iter=300)\n",
    "    kmeans.fit(df)\n",
    "    \n",
    "    return pd.Series(kmeans.labels_)"
   ]
  },
  {
   "cell_type": "code",
   "execution_count": null,
   "id": "f1078e4b",
   "metadata": {},
   "outputs": [],
   "source": [
    "# Given a dataframe df and a number of clusters k, return a pandas series y\n",
    "# specifying an assignment of instances to clusters, using kmeans++.\n",
    "# y should contain values from the set {0,1,...,k-1}.\n",
    "def kmeans_plus(df, k):\n",
    "\tpass"
   ]
  },
  {
   "cell_type": "code",
   "execution_count": 93,
   "id": "14f12ea7",
   "metadata": {},
   "outputs": [],
   "source": [
    "# Given a dataframe df and a number of clusters k, return a pandas series y\n",
    "# specifying an assignment of instances to clusters, using agglomerative hierarchical clustering.\n",
    "# y should contain values from the set {0,1,...,k-1}.\n",
    "def agglomerative(df, k):\n",
    "    \n",
    "    clustering = AgglomerativeClustering(n_clusters = k)\n",
    "    clustering.fit(df)\n",
    "    \n",
    "    # Visualizing the clustering\n",
    "    #     plt.figure(figsize =(6, 6))\n",
    "    #     plt.scatter(df.iloc[:, 0], df.iloc[:, 1], clustering.labels_, cmap ='rainbow')\n",
    "    #     plt.show()\n",
    "    \n",
    "    return clustering.labels_"
   ]
  },
  {
   "cell_type": "code",
   "execution_count": 101,
   "id": "f36efea4",
   "metadata": {},
   "outputs": [],
   "source": [
    "# Given a data set X and an assignment to clusters y\n",
    "# return the Solhouette score of the clustering.\n",
    "def clustering_score(X,y):\n",
    "    \n",
    "    silhouette_scores = silhouette_score(X, y)\n",
    "    \n",
    "    return silhouette_scores"
   ]
  },
  {
   "cell_type": "code",
   "execution_count": null,
   "id": "ef226ea5",
   "metadata": {},
   "outputs": [],
   "source": [
    "# Perform the cluster evaluation described in the coursework description.\n",
    "# Given the dataframe df with the data to be clustered,\n",
    "# return a pandas dataframe with an entry for each clustering algorithm execution.\n",
    "# Each entry should contain the: \n",
    "# 'Algorithm' name: either 'Kmeans' or 'Agglomerative', \n",
    "# 'data' type: either 'Original' or 'Standardized',\n",
    "# 'k': the number of clusters produced,\n",
    "# 'Silhouette Score': for evaluating the resulting set of clusters.\n",
    "def cluster_evaluation(df):\n",
    "\tpass"
   ]
  },
  {
   "cell_type": "code",
   "execution_count": null,
   "id": "0be44e42",
   "metadata": {},
   "outputs": [],
   "source": [
    "# Given the performance evaluation dataframe produced by the cluster_evaluation function,\n",
    "# return the best computed Silhouette score.\n",
    "def best_clustering_score(rdf):\n",
    "\tpass"
   ]
  },
  {
   "cell_type": "code",
   "execution_count": null,
   "id": "c9dc2708",
   "metadata": {},
   "outputs": [],
   "source": [
    "# Run some clustering algorithm of your choice with k=3 and generate a scatter plot for each pair of attributes.\n",
    "# Data points in different clusters should appear with different colors.\n",
    "def scatter_plots(df):\n",
    "\tpass"
   ]
  },
  {
   "cell_type": "markdown",
   "id": "eef5ae14",
   "metadata": {},
   "source": [
    "### Answers"
   ]
  },
  {
   "cell_type": "code",
   "execution_count": 95,
   "id": "211fe11a",
   "metadata": {},
   "outputs": [
    {
     "name": "stdout",
     "output_type": "stream",
     "text": [
      "<class 'pandas.core.frame.DataFrame'>\n",
      "RangeIndex: 440 entries, 0 to 439\n",
      "Data columns (total 6 columns):\n",
      " #   Column            Non-Null Count  Dtype\n",
      "---  ------            --------------  -----\n",
      " 0   Fresh             440 non-null    int64\n",
      " 1   Milk              440 non-null    int64\n",
      " 2   Grocery           440 non-null    int64\n",
      " 3   Frozen            440 non-null    int64\n",
      " 4   Detergents_Paper  440 non-null    int64\n",
      " 5   Delicassen        440 non-null    int64\n",
      "dtypes: int64(6)\n",
      "memory usage: 20.8 KB\n"
     ]
    }
   ],
   "source": [
    "df = read_csv_2('Wholesale customers data.csv')\n",
    "df.info()"
   ]
  },
  {
   "cell_type": "code",
   "execution_count": 96,
   "id": "b18bca84",
   "metadata": {},
   "outputs": [
    {
     "data": {
      "text/html": [
       "<div>\n",
       "<style scoped>\n",
       "    .dataframe tbody tr th:only-of-type {\n",
       "        vertical-align: middle;\n",
       "    }\n",
       "\n",
       "    .dataframe tbody tr th {\n",
       "        vertical-align: top;\n",
       "    }\n",
       "\n",
       "    .dataframe thead th {\n",
       "        text-align: right;\n",
       "    }\n",
       "</style>\n",
       "<table border=\"1\" class=\"dataframe\">\n",
       "  <thead>\n",
       "    <tr style=\"text-align: right;\">\n",
       "      <th></th>\n",
       "      <th>Fresh</th>\n",
       "      <th>Milk</th>\n",
       "      <th>Grocery</th>\n",
       "      <th>Frozen</th>\n",
       "      <th>Detergents_Paper</th>\n",
       "      <th>Delicassen</th>\n",
       "    </tr>\n",
       "  </thead>\n",
       "  <tbody>\n",
       "    <tr>\n",
       "      <th>0</th>\n",
       "      <td>12669</td>\n",
       "      <td>9656</td>\n",
       "      <td>7561</td>\n",
       "      <td>214</td>\n",
       "      <td>2674</td>\n",
       "      <td>1338</td>\n",
       "    </tr>\n",
       "    <tr>\n",
       "      <th>1</th>\n",
       "      <td>7057</td>\n",
       "      <td>9810</td>\n",
       "      <td>9568</td>\n",
       "      <td>1762</td>\n",
       "      <td>3293</td>\n",
       "      <td>1776</td>\n",
       "    </tr>\n",
       "    <tr>\n",
       "      <th>2</th>\n",
       "      <td>6353</td>\n",
       "      <td>8808</td>\n",
       "      <td>7684</td>\n",
       "      <td>2405</td>\n",
       "      <td>3516</td>\n",
       "      <td>7844</td>\n",
       "    </tr>\n",
       "    <tr>\n",
       "      <th>3</th>\n",
       "      <td>13265</td>\n",
       "      <td>1196</td>\n",
       "      <td>4221</td>\n",
       "      <td>6404</td>\n",
       "      <td>507</td>\n",
       "      <td>1788</td>\n",
       "    </tr>\n",
       "  </tbody>\n",
       "</table>\n",
       "</div>"
      ],
      "text/plain": [
       "   Fresh  Milk  Grocery  Frozen  Detergents_Paper  Delicassen\n",
       "0  12669  9656     7561     214              2674        1338\n",
       "1   7057  9810     9568    1762              3293        1776\n",
       "2   6353  8808     7684    2405              3516        7844\n",
       "3  13265  1196     4221    6404               507        1788"
      ]
     },
     "execution_count": 96,
     "metadata": {},
     "output_type": "execute_result"
    }
   ],
   "source": [
    "df.head(4)"
   ]
  },
  {
   "cell_type": "code",
   "execution_count": 97,
   "id": "4521bc44",
   "metadata": {},
   "outputs": [
    {
     "data": {
      "text/html": [
       "<div>\n",
       "<style scoped>\n",
       "    .dataframe tbody tr th:only-of-type {\n",
       "        vertical-align: middle;\n",
       "    }\n",
       "\n",
       "    .dataframe tbody tr th {\n",
       "        vertical-align: top;\n",
       "    }\n",
       "\n",
       "    .dataframe thead th {\n",
       "        text-align: right;\n",
       "    }\n",
       "</style>\n",
       "<table border=\"1\" class=\"dataframe\">\n",
       "  <thead>\n",
       "    <tr style=\"text-align: right;\">\n",
       "      <th></th>\n",
       "      <th>Fresh</th>\n",
       "      <th>Milk</th>\n",
       "      <th>Grocery</th>\n",
       "      <th>Frozen</th>\n",
       "      <th>Detergents_Paper</th>\n",
       "      <th>Delicassen</th>\n",
       "    </tr>\n",
       "  </thead>\n",
       "  <tbody>\n",
       "    <tr>\n",
       "      <th>mean</th>\n",
       "      <td>12000</td>\n",
       "      <td>5796</td>\n",
       "      <td>7951</td>\n",
       "      <td>3071</td>\n",
       "      <td>2881</td>\n",
       "      <td>1524</td>\n",
       "    </tr>\n",
       "    <tr>\n",
       "      <th>standard deviation</th>\n",
       "      <td>12647</td>\n",
       "      <td>7380</td>\n",
       "      <td>9503</td>\n",
       "      <td>4854</td>\n",
       "      <td>4767</td>\n",
       "      <td>2820</td>\n",
       "    </tr>\n",
       "    <tr>\n",
       "      <th>minimum</th>\n",
       "      <td>3</td>\n",
       "      <td>55</td>\n",
       "      <td>3</td>\n",
       "      <td>25</td>\n",
       "      <td>3</td>\n",
       "      <td>3</td>\n",
       "    </tr>\n",
       "    <tr>\n",
       "      <th>maximum</th>\n",
       "      <td>112151</td>\n",
       "      <td>73498</td>\n",
       "      <td>92780</td>\n",
       "      <td>60869</td>\n",
       "      <td>40827</td>\n",
       "      <td>47943</td>\n",
       "    </tr>\n",
       "  </tbody>\n",
       "</table>\n",
       "</div>"
      ],
      "text/plain": [
       "                     Fresh   Milk  Grocery  Frozen  Detergents_Paper  \\\n",
       "mean                 12000   5796     7951    3071              2881   \n",
       "standard deviation   12647   7380     9503    4854              4767   \n",
       "minimum                  3     55        3      25                 3   \n",
       "maximum             112151  73498    92780   60869             40827   \n",
       "\n",
       "                    Delicassen  \n",
       "mean                      1524  \n",
       "standard deviation        2820  \n",
       "minimum                      3  \n",
       "maximum                  47943  "
      ]
     },
     "execution_count": 97,
     "metadata": {},
     "output_type": "execute_result"
    }
   ],
   "source": [
    "# 1. [10 points] Compute the mean, standard deviation, minimum, and maximum value for each\n",
    "# attribute. Round the mean and standard deviation to the closest integers.\n",
    "df_summary = summary_statistics(df)\n",
    "df_summary.head()"
   ]
  },
  {
   "cell_type": "code",
   "execution_count": 109,
   "id": "b2acaca0",
   "metadata": {},
   "outputs": [
    {
     "name": "stdout",
     "output_type": "stream",
     "text": [
      "k mean clustering:\n",
      "\n",
      "\n",
      "agglomerative hierarchical clustering:\n",
      "\n"
     ]
    }
   ],
   "source": [
    "# 2. [20 points] Divide the data points into k clusters, for k ∈ {3, 5, 10}, using \n",
    "# kmeans and agglomerative hierarchical clustering. \n",
    "# Because the performance of kmeans (e.g. number of iterations) is significantly affected \n",
    "# by the initial cluster center selection, repeat 10 executions of kmeans for each k value. \n",
    "k = (3, 5, 10)\n",
    "\n",
    "print('k mean clustering:\\n')\n",
    "for k_i in k:\n",
    "    for i in range(10):\n",
    "        y = kmeans(df, k_i)\n",
    "        # print(y)\n",
    "\n",
    "print('\\nagglomerative hierarchical clustering:\\n')\n",
    "for k_i in k:\n",
    "    c = agglomerative(df, k_i)\n",
    "    # print(c)\n",
    "\n"
   ]
  },
  {
   "cell_type": "code",
   "execution_count": 99,
   "id": "ce420499",
   "metadata": {},
   "outputs": [
    {
     "data": {
      "text/html": [
       "<div>\n",
       "<style scoped>\n",
       "    .dataframe tbody tr th:only-of-type {\n",
       "        vertical-align: middle;\n",
       "    }\n",
       "\n",
       "    .dataframe tbody tr th {\n",
       "        vertical-align: top;\n",
       "    }\n",
       "\n",
       "    .dataframe thead th {\n",
       "        text-align: right;\n",
       "    }\n",
       "</style>\n",
       "<table border=\"1\" class=\"dataframe\">\n",
       "  <thead>\n",
       "    <tr style=\"text-align: right;\">\n",
       "      <th></th>\n",
       "      <th>Fresh</th>\n",
       "      <th>Milk</th>\n",
       "      <th>Grocery</th>\n",
       "      <th>Frozen</th>\n",
       "      <th>Detergents_Paper</th>\n",
       "      <th>Delicassen</th>\n",
       "    </tr>\n",
       "  </thead>\n",
       "  <tbody>\n",
       "    <tr>\n",
       "      <th>0</th>\n",
       "      <td>0.052898</td>\n",
       "      <td>0.523035</td>\n",
       "      <td>-0.041040</td>\n",
       "      <td>-0.588587</td>\n",
       "      <td>-0.043424</td>\n",
       "      <td>-0.065957</td>\n",
       "    </tr>\n",
       "    <tr>\n",
       "      <th>1</th>\n",
       "      <td>-0.390844</td>\n",
       "      <td>0.543902</td>\n",
       "      <td>0.170157</td>\n",
       "      <td>-0.269674</td>\n",
       "      <td>0.086428</td>\n",
       "      <td>0.089362</td>\n",
       "    </tr>\n",
       "    <tr>\n",
       "      <th>2</th>\n",
       "      <td>-0.446509</td>\n",
       "      <td>0.408130</td>\n",
       "      <td>-0.028096</td>\n",
       "      <td>-0.137206</td>\n",
       "      <td>0.133207</td>\n",
       "      <td>2.241135</td>\n",
       "    </tr>\n",
       "    <tr>\n",
       "      <th>3</th>\n",
       "      <td>0.100024</td>\n",
       "      <td>-0.623306</td>\n",
       "      <td>-0.392508</td>\n",
       "      <td>0.686650</td>\n",
       "      <td>-0.498007</td>\n",
       "      <td>0.093617</td>\n",
       "    </tr>\n",
       "  </tbody>\n",
       "</table>\n",
       "</div>"
      ],
      "text/plain": [
       "      Fresh      Milk   Grocery    Frozen  Detergents_Paper  Delicassen\n",
       "0  0.052898  0.523035 -0.041040 -0.588587         -0.043424   -0.065957\n",
       "1 -0.390844  0.543902  0.170157 -0.269674          0.086428    0.089362\n",
       "2 -0.446509  0.408130 -0.028096 -0.137206          0.133207    2.241135\n",
       "3  0.100024 -0.623306 -0.392508  0.686650         -0.498007    0.093617"
      ]
     },
     "execution_count": 99,
     "metadata": {},
     "output_type": "execute_result"
    }
   ],
   "source": [
    "# Next, standardize each attribute value by subtracting with the mean and then\n",
    "# dividing with the standard deviation for that attribute. \n",
    "df = standardize(df)\n",
    "df.head(4)"
   ]
  },
  {
   "cell_type": "code",
   "execution_count": 110,
   "id": "0b1b50d2",
   "metadata": {
    "scrolled": true
   },
   "outputs": [
    {
     "name": "stdout",
     "output_type": "stream",
     "text": [
      "k mean clustering:\n",
      "\n",
      "0.53913106645641\n",
      "0.5482912545806091\n",
      "0.543861452995114\n",
      "0.5482912545806091\n",
      "0.33392224634163403\n",
      "0.532324060468781\n",
      "0.3396925980040233\n",
      "0.34777580400322394\n",
      "0.4014025939914491\n",
      "0.33392224634163403\n",
      "0.35441092472561925\n",
      "0.3515678964407184\n",
      "0.37162866546610884\n",
      "0.366305378582864\n",
      "0.37162866546610884\n",
      "0.3527244780702412\n",
      "0.37162866546610884\n",
      "0.3647975889546364\n",
      "0.36364688679011864\n",
      "0.3570127351071765\n",
      "0.2545877015787855\n",
      "0.2874513807673378\n",
      "0.30354203571117117\n",
      "0.2859441652702221\n",
      "0.28614078660961484\n",
      "0.3073617027728237\n",
      "0.2854212647765985\n",
      "0.28671006098059837\n",
      "0.24999891662021226\n",
      "0.3034283109197725\n",
      "\n",
      "agglomerative hierarchical clustering:\n",
      "\n",
      "0.26461244827813024\n",
      "0.2398816349597083\n",
      "0.27954308506388986\n"
     ]
    }
   ],
   "source": [
    "# Repeat the previous kmeans and agglomerative hierarchical clustering executions \n",
    "# with the standardized data set. \n",
    "k = (3, 5, 10)\n",
    "print('k mean clustering:\\n')\n",
    "for k_i in k:\n",
    "    for i in range(10):\n",
    "        y = kmeans(df, k_i)\n",
    "        # print(y)\n",
    "        score = clustering_score(df,y)\n",
    "        print(score)\n",
    "        \n",
    "print('\\nagglomerative hierarchical clustering:\\n')        \n",
    "for k_i in k:\n",
    "    c = agglomerative(df, k_i)\n",
    "    score = clustering_score(df,c)\n",
    "    print(score)"
   ]
  },
  {
   "cell_type": "code",
   "execution_count": null,
   "id": "6cf5311d",
   "metadata": {},
   "outputs": [],
   "source": [
    "# Identify which run resulted in the best set of clusters using the Silhouette score \n",
    "# as your evaluation metric. \n"
   ]
  },
  {
   "cell_type": "code",
   "execution_count": null,
   "id": "9d1f06f5",
   "metadata": {},
   "outputs": [],
   "source": [
    "# Visualize the best set of clusters computed in the previous question. \n",
    "# For this, construct a scatterplot for each pair of attributes using Pyplot. \n",
    "# Therefore, 15 scatter plots should be constructed in total.\n",
    "# Different clusters should appear with different colors in each scatter plot. Note that these plots\n",
    "# could be used to manually assess how well the clusters separate the data points."
   ]
  }
 ],
 "metadata": {
  "kernelspec": {
   "display_name": "Python 3 (ipykernel)",
   "language": "python",
   "name": "python3"
  },
  "language_info": {
   "codemirror_mode": {
    "name": "ipython",
    "version": 3
   },
   "file_extension": ".py",
   "mimetype": "text/x-python",
   "name": "python",
   "nbconvert_exporter": "python",
   "pygments_lexer": "ipython3",
   "version": "3.10.10"
  }
 },
 "nbformat": 4,
 "nbformat_minor": 5
}
