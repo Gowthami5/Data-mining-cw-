{
 "cells": [
  {
   "cell_type": "markdown",
   "id": "1643332e",
   "metadata": {},
   "source": [
    "### Part 2: Cluster Analysis"
   ]
  },
  {
   "cell_type": "code",
   "execution_count": 3,
   "id": "85598803",
   "metadata": {},
   "outputs": [],
   "source": [
    "import sys\n",
    "import csv\n",
    "import math\n",
    "import random\n",
    "import numpy as np\n",
    "import matplotlib.pyplot as plt\n",
    "import pandas as pd\n",
    "\n"
   ]
  },
  {
   "cell_type": "code",
   "execution_count": 8,
   "id": "adbf3d7d",
   "metadata": {},
   "outputs": [],
   "source": [
    "# Return a pandas dataframe containing the data set that needs to be extracted from the data_file.\n",
    "# data_file will be populated with the string 'wholesale_customers.csv'.\n",
    "def read_csv_2(data_file):\n",
    "      \n",
    "    df = pd.read_csv(data_file,index_col=False, skipinitialspace = True)\n",
    "    df = df.drop(['Channel', 'Region'], axis=1)    \n",
    "    df.replace(to_replace=[r' ?', r'?', r'? ', r' ', r''], value=[np.nan, np.nan, np.nan, np.nan, np.nan], regex=False, inplace=True)\n",
    "    \n",
    "    return df"
   ]
  },
  {
   "cell_type": "code",
   "execution_count": 30,
   "id": "f33cd6ea",
   "metadata": {},
   "outputs": [],
   "source": [
    "# Return a pandas dataframe with summary statistics of the data.\n",
    "# Namely, 'mean', 'std' (standard deviation), 'min', and 'max' for each attribute.\n",
    "# These strings index the new dataframe columns. \n",
    "# Each row should correspond to an attribute in the original data and be indexed with the attribute name.\n",
    "def summary_statistics(df):\n",
    "    \n",
    "    index_labels=['mean', 'standard deviation', 'minimum', 'maximum']\n",
    "    df_summary = pd.DataFrame([df.mean().astype(int), df.std().astype(int), \n",
    "                               df.min().astype(int), df.max().astype(int) ], \n",
    "                              index=index_labels)\n",
    "    \n",
    "    return df_summary"
   ]
  },
  {
   "cell_type": "code",
   "execution_count": null,
   "id": "edc31366",
   "metadata": {},
   "outputs": [],
   "source": []
  },
  {
   "cell_type": "code",
   "execution_count": null,
   "id": "f369fb1f",
   "metadata": {},
   "outputs": [],
   "source": []
  },
  {
   "cell_type": "markdown",
   "id": "b2d23f74",
   "metadata": {},
   "source": [
    "### Answers"
   ]
  },
  {
   "cell_type": "code",
   "execution_count": 26,
   "id": "584cdebf",
   "metadata": {},
   "outputs": [
    {
     "data": {
      "text/html": [
       "<div>\n",
       "<style scoped>\n",
       "    .dataframe tbody tr th:only-of-type {\n",
       "        vertical-align: middle;\n",
       "    }\n",
       "\n",
       "    .dataframe tbody tr th {\n",
       "        vertical-align: top;\n",
       "    }\n",
       "\n",
       "    .dataframe thead th {\n",
       "        text-align: right;\n",
       "    }\n",
       "</style>\n",
       "<table border=\"1\" class=\"dataframe\">\n",
       "  <thead>\n",
       "    <tr style=\"text-align: right;\">\n",
       "      <th></th>\n",
       "      <th>Fresh</th>\n",
       "      <th>Milk</th>\n",
       "      <th>Grocery</th>\n",
       "      <th>Frozen</th>\n",
       "      <th>Detergents_Paper</th>\n",
       "      <th>Delicassen</th>\n",
       "    </tr>\n",
       "  </thead>\n",
       "  <tbody>\n",
       "    <tr>\n",
       "      <th>0</th>\n",
       "      <td>12669</td>\n",
       "      <td>9656</td>\n",
       "      <td>7561</td>\n",
       "      <td>214</td>\n",
       "      <td>2674</td>\n",
       "      <td>1338</td>\n",
       "    </tr>\n",
       "    <tr>\n",
       "      <th>1</th>\n",
       "      <td>7057</td>\n",
       "      <td>9810</td>\n",
       "      <td>9568</td>\n",
       "      <td>1762</td>\n",
       "      <td>3293</td>\n",
       "      <td>1776</td>\n",
       "    </tr>\n",
       "    <tr>\n",
       "      <th>2</th>\n",
       "      <td>6353</td>\n",
       "      <td>8808</td>\n",
       "      <td>7684</td>\n",
       "      <td>2405</td>\n",
       "      <td>3516</td>\n",
       "      <td>7844</td>\n",
       "    </tr>\n",
       "    <tr>\n",
       "      <th>3</th>\n",
       "      <td>13265</td>\n",
       "      <td>1196</td>\n",
       "      <td>4221</td>\n",
       "      <td>6404</td>\n",
       "      <td>507</td>\n",
       "      <td>1788</td>\n",
       "    </tr>\n",
       "  </tbody>\n",
       "</table>\n",
       "</div>"
      ],
      "text/plain": [
       "   Fresh  Milk  Grocery  Frozen  Detergents_Paper  Delicassen\n",
       "0  12669  9656     7561     214              2674        1338\n",
       "1   7057  9810     9568    1762              3293        1776\n",
       "2   6353  8808     7684    2405              3516        7844\n",
       "3  13265  1196     4221    6404               507        1788"
      ]
     },
     "execution_count": 26,
     "metadata": {},
     "output_type": "execute_result"
    }
   ],
   "source": [
    "df = read_csv_2('Wholesale customers data.csv')\n",
    "df.head(4)"
   ]
  },
  {
   "cell_type": "code",
   "execution_count": 31,
   "id": "ce09979a",
   "metadata": {},
   "outputs": [
    {
     "data": {
      "text/html": [
       "<div>\n",
       "<style scoped>\n",
       "    .dataframe tbody tr th:only-of-type {\n",
       "        vertical-align: middle;\n",
       "    }\n",
       "\n",
       "    .dataframe tbody tr th {\n",
       "        vertical-align: top;\n",
       "    }\n",
       "\n",
       "    .dataframe thead th {\n",
       "        text-align: right;\n",
       "    }\n",
       "</style>\n",
       "<table border=\"1\" class=\"dataframe\">\n",
       "  <thead>\n",
       "    <tr style=\"text-align: right;\">\n",
       "      <th></th>\n",
       "      <th>Fresh</th>\n",
       "      <th>Milk</th>\n",
       "      <th>Grocery</th>\n",
       "      <th>Frozen</th>\n",
       "      <th>Detergents_Paper</th>\n",
       "      <th>Delicassen</th>\n",
       "    </tr>\n",
       "  </thead>\n",
       "  <tbody>\n",
       "    <tr>\n",
       "      <th>mean</th>\n",
       "      <td>12000</td>\n",
       "      <td>5796</td>\n",
       "      <td>7951</td>\n",
       "      <td>3071</td>\n",
       "      <td>2881</td>\n",
       "      <td>1524</td>\n",
       "    </tr>\n",
       "    <tr>\n",
       "      <th>standard deviation</th>\n",
       "      <td>12647</td>\n",
       "      <td>7380</td>\n",
       "      <td>9503</td>\n",
       "      <td>4854</td>\n",
       "      <td>4767</td>\n",
       "      <td>2820</td>\n",
       "    </tr>\n",
       "    <tr>\n",
       "      <th>minimum</th>\n",
       "      <td>3</td>\n",
       "      <td>55</td>\n",
       "      <td>3</td>\n",
       "      <td>25</td>\n",
       "      <td>3</td>\n",
       "      <td>3</td>\n",
       "    </tr>\n",
       "    <tr>\n",
       "      <th>maximum</th>\n",
       "      <td>112151</td>\n",
       "      <td>73498</td>\n",
       "      <td>92780</td>\n",
       "      <td>60869</td>\n",
       "      <td>40827</td>\n",
       "      <td>47943</td>\n",
       "    </tr>\n",
       "  </tbody>\n",
       "</table>\n",
       "</div>"
      ],
      "text/plain": [
       "                     Fresh   Milk  Grocery  Frozen  Detergents_Paper  \\\n",
       "mean                 12000   5796     7951    3071              2881   \n",
       "standard deviation   12647   7380     9503    4854              4767   \n",
       "minimum                  3     55        3      25                 3   \n",
       "maximum             112151  73498    92780   60869             40827   \n",
       "\n",
       "                    Delicassen  \n",
       "mean                      1524  \n",
       "standard deviation        2820  \n",
       "minimum                      3  \n",
       "maximum                  47943  "
      ]
     },
     "execution_count": 31,
     "metadata": {},
     "output_type": "execute_result"
    }
   ],
   "source": [
    "#1. [10 points] Compute the mean, standard deviation, minimum, and maximum value for each\n",
    "# attribute. Round the mean and standard deviation to the closest integers.\n",
    "df_summary = summary_statistics(df)\n",
    "df_summary.head()"
   ]
  },
  {
   "cell_type": "code",
   "execution_count": null,
   "id": "4903817d",
   "metadata": {},
   "outputs": [],
   "source": [
    "#2 [20 points] Divide the data points into k clusters, for k ∈ {3, 5, 10}, \n",
    "# using kmeans and agglom\u0002erative hierarchical clustering. Because the performance of kmeans (e.g. number of iterations)\n",
    "# is significantly affected by the initial cluster center selection, repeat 10 executions of kmeans for\n",
    "# each k value. Next, standardize each attribute value by subtracting with the mean and then\n",
    "# dividing with the standard deviation for that attribute. Repeat the previous kmeans and ag\u0002glomerative hierarchical clustering executions with the standardized data set. Identify which run\n",
    "# resulted in the best set of clusters using the Silhouette score as your evaluation metric. Visualize\n",
    "# the best set of clusters computed in the previous question. For this, construct a scatterplot for\n",
    "# each pair of attributes using Pyplot. Therefore, 15 scatter plots should be constructed in total.\n",
    "# Different clusters should appear with different colors in each scatter plot. Note that these plots\n",
    "\n"
   ]
  }
 ],
 "metadata": {
  "kernelspec": {
   "display_name": "Python 3 (ipykernel)",
   "language": "python",
   "name": "python3"
  },
  "language_info": {
   "codemirror_mode": {
    "name": "ipython",
    "version": 3
   },
   "file_extension": ".py",
   "mimetype": "text/x-python",
   "name": "python",
   "nbconvert_exporter": "python",
   "pygments_lexer": "ipython3",
   "version": "3.10.10"
  }
 },
 "nbformat": 4,
 "nbformat_minor": 5
}
