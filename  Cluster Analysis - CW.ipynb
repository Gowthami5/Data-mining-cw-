{
 "cells": [
  {
   "cell_type": "markdown",
   "id": "1f96b649",
   "metadata": {},
   "source": [
    "### Part 2: Cluster Analysis"
   ]
  },
  {
   "cell_type": "code",
   "execution_count": 43,
   "id": "a45c740d",
   "metadata": {},
   "outputs": [],
   "source": [
    "import sys\n",
    "import csv\n",
    "import math\n",
    "import random\n",
    "import numpy as np\n",
    "import matplotlib.pyplot as plt\n",
    "import pandas as pd\n",
    "\n",
    "import matplotlib.pyplot as plt\n",
    "# from kneed import KneeLocator\n",
    "from sklearn.datasets import make_blobs\n",
    "from sklearn.cluster import KMeans\n",
    "from sklearn.metrics import silhouette_score\n",
    "from sklearn.preprocessing import StandardScaler"
   ]
  },
  {
   "cell_type": "code",
   "execution_count": 8,
   "id": "8a0e4133",
   "metadata": {},
   "outputs": [],
   "source": [
    "# Return a pandas dataframe containing the data set that needs to be extracted from the data_file.\n",
    "# data_file will be populated with the string 'wholesale_customers.csv'.\n",
    "def read_csv_2(data_file):\n",
    "      \n",
    "    df = pd.read_csv(data_file,index_col=False, skipinitialspace = True)\n",
    "    df = df.drop(['Channel', 'Region'], axis=1)    \n",
    "    df.replace(to_replace=[r' ?', r'?', r'? ', r' ', r''], value=[np.nan, np.nan, np.nan, np.nan, np.nan], regex=False, inplace=True)\n",
    "    \n",
    "    return df"
   ]
  },
  {
   "cell_type": "code",
   "execution_count": 40,
   "id": "39fda61e",
   "metadata": {},
   "outputs": [],
   "source": [
    "# Return a pandas dataframe with summary statistics of the data.\n",
    "# Namely, 'mean', 'std' (standard deviation), 'min', and 'max' for each attribute.\n",
    "# These strings index the new dataframe columns. \n",
    "# Each row should correspond to an attribute in the original data and be indexed with the attribute name.\n",
    "def summary_statistics(df):\n",
    "    \n",
    "    index_labels=['mean', 'standard deviation', 'minimum', 'maximum']\n",
    "    df_summary = pd.DataFrame([df.mean().astype(int), df.std().astype(int), \n",
    "                               df.min().astype(int), df.max().astype(int) ], \n",
    "                              index=index_labels)\n",
    "    \n",
    "    return df_summary"
   ]
  },
  {
   "cell_type": "code",
   "execution_count": 35,
   "id": "c66de280",
   "metadata": {},
   "outputs": [],
   "source": [
    "# Given a dataframe df with numeric values, return a dataframe (new copy)\n",
    "# where each attribute value is subtracted by the mean and then divided by the\n",
    "# standard deviation for that attribute.\n",
    "def standardize(df):\n",
    "    \n",
    "    df_summary = summary_statistics(df)\n",
    "    for column in df.columns:\n",
    "        df[column] = (df[column] - df_summary[column]['mean'])/df_summary[column]['standard deviation']\n",
    "    \n",
    "    return df"
   ]
  },
  {
   "cell_type": "code",
   "execution_count": 54,
   "id": "f1dde1df",
   "metadata": {},
   "outputs": [],
   "source": [
    "# Given a dataframe df and a number of clusters k, return a pandas series y\n",
    "# specifying an assignment of instances to clusters, using kmeans.\n",
    "# y should contain values in the set {0,1,...,k-1}.\n",
    "def kmeans(df, k):\n",
    "    \n",
    "    kmeans = KMeans( init=\"random\", n_clusters=k, n_init=10, max_iter=300, random_state=42)\n",
    "    kmeans.fit(df)\n",
    "    \n",
    "    return pd.Series(kmeans.labels_)"
   ]
  },
  {
   "cell_type": "code",
   "execution_count": null,
   "id": "4c4569b1",
   "metadata": {},
   "outputs": [],
   "source": [
    "# Given a dataframe df and a number of clusters k, return a pandas series y\n",
    "# specifying an assignment of instances to clusters, using kmeans++.\n",
    "# y should contain values from the set {0,1,...,k-1}.\n",
    "def kmeans_plus(df, k):\n",
    "\tpass"
   ]
  },
  {
   "cell_type": "code",
   "execution_count": null,
   "id": "5be21ad0",
   "metadata": {},
   "outputs": [],
   "source": [
    "# Given a dataframe df and a number of clusters k, return a pandas series y\n",
    "# specifying an assignment of instances to clusters, using agglomerative hierarchical clustering.\n",
    "# y should contain values from the set {0,1,...,k-1}.\n",
    "def agglomerative(df, k):\n",
    "\tpass"
   ]
  },
  {
   "cell_type": "code",
   "execution_count": null,
   "id": "dbf9065b",
   "metadata": {},
   "outputs": [],
   "source": [
    "# Given a data set X and an assignment to clusters y\n",
    "# return the Solhouette score of the clustering.\n",
    "def clustering_score(X,y):\n",
    "\tpass"
   ]
  },
  {
   "cell_type": "code",
   "execution_count": null,
   "id": "a406954f",
   "metadata": {},
   "outputs": [],
   "source": [
    "# Perform the cluster evaluation described in the coursework description.\n",
    "# Given the dataframe df with the data to be clustered,\n",
    "# return a pandas dataframe with an entry for each clustering algorithm execution.\n",
    "# Each entry should contain the: \n",
    "# 'Algorithm' name: either 'Kmeans' or 'Agglomerative', \n",
    "# 'data' type: either 'Original' or 'Standardized',\n",
    "# 'k': the number of clusters produced,\n",
    "# 'Silhouette Score': for evaluating the resulting set of clusters.\n",
    "def cluster_evaluation(df):\n",
    "\tpass"
   ]
  },
  {
   "cell_type": "code",
   "execution_count": null,
   "id": "c5008a69",
   "metadata": {},
   "outputs": [],
   "source": [
    "# Given the performance evaluation dataframe produced by the cluster_evaluation function,\n",
    "# return the best computed Silhouette score.\n",
    "def best_clustering_score(rdf):\n",
    "\tpass"
   ]
  },
  {
   "cell_type": "code",
   "execution_count": null,
   "id": "89c2074f",
   "metadata": {},
   "outputs": [],
   "source": [
    "# Run some clustering algorithm of your choice with k=3 and generate a scatter plot for each pair of attributes.\n",
    "# Data points in different clusters should appear with different colors.\n",
    "def scatter_plots(df):\n",
    "\tpass"
   ]
  },
  {
   "cell_type": "markdown",
   "id": "f8448f7b",
   "metadata": {},
   "source": [
    "### Answers"
   ]
  },
  {
   "cell_type": "code",
   "execution_count": 33,
   "id": "dee7817f",
   "metadata": {},
   "outputs": [
    {
     "name": "stdout",
     "output_type": "stream",
     "text": [
      "<class 'pandas.core.frame.DataFrame'>\n",
      "RangeIndex: 440 entries, 0 to 439\n",
      "Data columns (total 6 columns):\n",
      " #   Column            Non-Null Count  Dtype\n",
      "---  ------            --------------  -----\n",
      " 0   Fresh             440 non-null    int64\n",
      " 1   Milk              440 non-null    int64\n",
      " 2   Grocery           440 non-null    int64\n",
      " 3   Frozen            440 non-null    int64\n",
      " 4   Detergents_Paper  440 non-null    int64\n",
      " 5   Delicassen        440 non-null    int64\n",
      "dtypes: int64(6)\n",
      "memory usage: 20.8 KB\n"
     ]
    }
   ],
   "source": [
    "df = read_csv_2('Wholesale customers data.csv')\n",
    "df.info()"
   ]
  },
  {
   "cell_type": "code",
   "execution_count": 34,
   "id": "9b24e59f",
   "metadata": {},
   "outputs": [
    {
     "data": {
      "text/html": [
       "<div>\n",
       "<style scoped>\n",
       "    .dataframe tbody tr th:only-of-type {\n",
       "        vertical-align: middle;\n",
       "    }\n",
       "\n",
       "    .dataframe tbody tr th {\n",
       "        vertical-align: top;\n",
       "    }\n",
       "\n",
       "    .dataframe thead th {\n",
       "        text-align: right;\n",
       "    }\n",
       "</style>\n",
       "<table border=\"1\" class=\"dataframe\">\n",
       "  <thead>\n",
       "    <tr style=\"text-align: right;\">\n",
       "      <th></th>\n",
       "      <th>Fresh</th>\n",
       "      <th>Milk</th>\n",
       "      <th>Grocery</th>\n",
       "      <th>Frozen</th>\n",
       "      <th>Detergents_Paper</th>\n",
       "      <th>Delicassen</th>\n",
       "    </tr>\n",
       "  </thead>\n",
       "  <tbody>\n",
       "    <tr>\n",
       "      <th>0</th>\n",
       "      <td>12669</td>\n",
       "      <td>9656</td>\n",
       "      <td>7561</td>\n",
       "      <td>214</td>\n",
       "      <td>2674</td>\n",
       "      <td>1338</td>\n",
       "    </tr>\n",
       "    <tr>\n",
       "      <th>1</th>\n",
       "      <td>7057</td>\n",
       "      <td>9810</td>\n",
       "      <td>9568</td>\n",
       "      <td>1762</td>\n",
       "      <td>3293</td>\n",
       "      <td>1776</td>\n",
       "    </tr>\n",
       "    <tr>\n",
       "      <th>2</th>\n",
       "      <td>6353</td>\n",
       "      <td>8808</td>\n",
       "      <td>7684</td>\n",
       "      <td>2405</td>\n",
       "      <td>3516</td>\n",
       "      <td>7844</td>\n",
       "    </tr>\n",
       "    <tr>\n",
       "      <th>3</th>\n",
       "      <td>13265</td>\n",
       "      <td>1196</td>\n",
       "      <td>4221</td>\n",
       "      <td>6404</td>\n",
       "      <td>507</td>\n",
       "      <td>1788</td>\n",
       "    </tr>\n",
       "  </tbody>\n",
       "</table>\n",
       "</div>"
      ],
      "text/plain": [
       "   Fresh  Milk  Grocery  Frozen  Detergents_Paper  Delicassen\n",
       "0  12669  9656     7561     214              2674        1338\n",
       "1   7057  9810     9568    1762              3293        1776\n",
       "2   6353  8808     7684    2405              3516        7844\n",
       "3  13265  1196     4221    6404               507        1788"
      ]
     },
     "execution_count": 34,
     "metadata": {},
     "output_type": "execute_result"
    }
   ],
   "source": [
    "df.head(4)"
   ]
  },
  {
   "cell_type": "code",
   "execution_count": 31,
   "id": "9482f0dc",
   "metadata": {},
   "outputs": [
    {
     "data": {
      "text/html": [
       "<div>\n",
       "<style scoped>\n",
       "    .dataframe tbody tr th:only-of-type {\n",
       "        vertical-align: middle;\n",
       "    }\n",
       "\n",
       "    .dataframe tbody tr th {\n",
       "        vertical-align: top;\n",
       "    }\n",
       "\n",
       "    .dataframe thead th {\n",
       "        text-align: right;\n",
       "    }\n",
       "</style>\n",
       "<table border=\"1\" class=\"dataframe\">\n",
       "  <thead>\n",
       "    <tr style=\"text-align: right;\">\n",
       "      <th></th>\n",
       "      <th>Fresh</th>\n",
       "      <th>Milk</th>\n",
       "      <th>Grocery</th>\n",
       "      <th>Frozen</th>\n",
       "      <th>Detergents_Paper</th>\n",
       "      <th>Delicassen</th>\n",
       "    </tr>\n",
       "  </thead>\n",
       "  <tbody>\n",
       "    <tr>\n",
       "      <th>mean</th>\n",
       "      <td>12000</td>\n",
       "      <td>5796</td>\n",
       "      <td>7951</td>\n",
       "      <td>3071</td>\n",
       "      <td>2881</td>\n",
       "      <td>1524</td>\n",
       "    </tr>\n",
       "    <tr>\n",
       "      <th>standard deviation</th>\n",
       "      <td>12647</td>\n",
       "      <td>7380</td>\n",
       "      <td>9503</td>\n",
       "      <td>4854</td>\n",
       "      <td>4767</td>\n",
       "      <td>2820</td>\n",
       "    </tr>\n",
       "    <tr>\n",
       "      <th>minimum</th>\n",
       "      <td>3</td>\n",
       "      <td>55</td>\n",
       "      <td>3</td>\n",
       "      <td>25</td>\n",
       "      <td>3</td>\n",
       "      <td>3</td>\n",
       "    </tr>\n",
       "    <tr>\n",
       "      <th>maximum</th>\n",
       "      <td>112151</td>\n",
       "      <td>73498</td>\n",
       "      <td>92780</td>\n",
       "      <td>60869</td>\n",
       "      <td>40827</td>\n",
       "      <td>47943</td>\n",
       "    </tr>\n",
       "  </tbody>\n",
       "</table>\n",
       "</div>"
      ],
      "text/plain": [
       "                     Fresh   Milk  Grocery  Frozen  Detergents_Paper  \\\n",
       "mean                 12000   5796     7951    3071              2881   \n",
       "standard deviation   12647   7380     9503    4854              4767   \n",
       "minimum                  3     55        3      25                 3   \n",
       "maximum             112151  73498    92780   60869             40827   \n",
       "\n",
       "                    Delicassen  \n",
       "mean                      1524  \n",
       "standard deviation        2820  \n",
       "minimum                      3  \n",
       "maximum                  47943  "
      ]
     },
     "execution_count": 31,
     "metadata": {},
     "output_type": "execute_result"
    }
   ],
   "source": [
    "# 1. [10 points] Compute the mean, standard deviation, minimum, and maximum value for each\n",
    "# attribute. Round the mean and standard deviation to the closest integers.\n",
    "df_summary = summary_statistics(df)\n",
    "df_summary.head()"
   ]
  },
  {
   "cell_type": "code",
   "execution_count": 36,
   "id": "fa243a1e",
   "metadata": {},
   "outputs": [
    {
     "data": {
      "text/html": [
       "<div>\n",
       "<style scoped>\n",
       "    .dataframe tbody tr th:only-of-type {\n",
       "        vertical-align: middle;\n",
       "    }\n",
       "\n",
       "    .dataframe tbody tr th {\n",
       "        vertical-align: top;\n",
       "    }\n",
       "\n",
       "    .dataframe thead th {\n",
       "        text-align: right;\n",
       "    }\n",
       "</style>\n",
       "<table border=\"1\" class=\"dataframe\">\n",
       "  <thead>\n",
       "    <tr style=\"text-align: right;\">\n",
       "      <th></th>\n",
       "      <th>Fresh</th>\n",
       "      <th>Milk</th>\n",
       "      <th>Grocery</th>\n",
       "      <th>Frozen</th>\n",
       "      <th>Detergents_Paper</th>\n",
       "      <th>Delicassen</th>\n",
       "    </tr>\n",
       "  </thead>\n",
       "  <tbody>\n",
       "    <tr>\n",
       "      <th>0</th>\n",
       "      <td>0.052898</td>\n",
       "      <td>0.523035</td>\n",
       "      <td>-0.041040</td>\n",
       "      <td>-0.588587</td>\n",
       "      <td>-0.043424</td>\n",
       "      <td>-0.065957</td>\n",
       "    </tr>\n",
       "    <tr>\n",
       "      <th>1</th>\n",
       "      <td>-0.390844</td>\n",
       "      <td>0.543902</td>\n",
       "      <td>0.170157</td>\n",
       "      <td>-0.269674</td>\n",
       "      <td>0.086428</td>\n",
       "      <td>0.089362</td>\n",
       "    </tr>\n",
       "    <tr>\n",
       "      <th>2</th>\n",
       "      <td>-0.446509</td>\n",
       "      <td>0.408130</td>\n",
       "      <td>-0.028096</td>\n",
       "      <td>-0.137206</td>\n",
       "      <td>0.133207</td>\n",
       "      <td>2.241135</td>\n",
       "    </tr>\n",
       "    <tr>\n",
       "      <th>3</th>\n",
       "      <td>0.100024</td>\n",
       "      <td>-0.623306</td>\n",
       "      <td>-0.392508</td>\n",
       "      <td>0.686650</td>\n",
       "      <td>-0.498007</td>\n",
       "      <td>0.093617</td>\n",
       "    </tr>\n",
       "  </tbody>\n",
       "</table>\n",
       "</div>"
      ],
      "text/plain": [
       "      Fresh      Milk   Grocery    Frozen  Detergents_Paper  Delicassen\n",
       "0  0.052898  0.523035 -0.041040 -0.588587         -0.043424   -0.065957\n",
       "1 -0.390844  0.543902  0.170157 -0.269674          0.086428    0.089362\n",
       "2 -0.446509  0.408130 -0.028096 -0.137206          0.133207    2.241135\n",
       "3  0.100024 -0.623306 -0.392508  0.686650         -0.498007    0.093617"
      ]
     },
     "execution_count": 36,
     "metadata": {},
     "output_type": "execute_result"
    }
   ],
   "source": [
    "# 2. [20 points] Divide the data points into k clusters, for k ∈ {3, 5, 10}, using \n",
    "# kmeans and agglomerative hierarchical clustering. \n",
    "# Because the performance of kmeans (e.g. number of iterations) is significantly affected \n",
    "# by the initial cluster center selection, repeat 10 executions of kmeans for each k value. \n",
    "df = standardize(df)\n",
    "df.head(4)\n",
    "# Next, standardize each attribute value by subtracting with the mean and then\n",
    "# dividing with the standard deviation for that attribute. Repeat the previous kmeans and agglomerative \n",
    "# hierarchical clustering executions with the standardized data set. Identify which run\n",
    "# resulted in the best set of clusters using the Silhouette score as your evaluation metric. Visualize\n",
    "# the best set of clusters computed in the previous question. For this, construct a scatterplot for\n",
    "# each pair of attributes using Pyplot. Therefore, 15 scatter plots should be constructed in total.\n",
    "# Different clusters should appear with different colors in each scatter plot. Note that these plots\n",
    "# could be used to manually assess how well the clusters separate the data points.\n"
   ]
  },
  {
   "cell_type": "code",
   "execution_count": 55,
   "id": "8be04d39",
   "metadata": {},
   "outputs": [
    {
     "name": "stdout",
     "output_type": "stream",
     "text": [
      "0      1\n",
      "1      2\n",
      "2      2\n",
      "3      1\n",
      "4      1\n",
      "      ..\n",
      "435    1\n",
      "436    1\n",
      "437    2\n",
      "438    1\n",
      "439    1\n",
      "Length: 440, dtype: int32\n"
     ]
    }
   ],
   "source": [
    "k = (3, 5, 10)\n",
    "y = kmeans(df, k[0])\n",
    "print(y)"
   ]
  }
 ],
 "metadata": {
  "kernelspec": {
   "display_name": "Python 3 (ipykernel)",
   "language": "python",
   "name": "python3"
  },
  "language_info": {
   "codemirror_mode": {
    "name": "ipython",
    "version": 3
   },
   "file_extension": ".py",
   "mimetype": "text/x-python",
   "name": "python",
   "nbconvert_exporter": "python",
   "pygments_lexer": "ipython3",
   "version": "3.10.10"
  }
 },
 "nbformat": 4,
 "nbformat_minor": 5
}
